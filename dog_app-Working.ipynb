{
 "cells": [
  {
   "cell_type": "markdown",
   "metadata": {},
   "source": [
    "# Data Scientist Nanodegree\n",
    "\n",
    "## Convolutional Neural Networks\n",
    "\n",
    "## Project: Write an Algorithm for a Dog Identification App \n",
    " This workbook is used to test the Algorithm in local computer\n",
    "## Step 2: Detect Dogs\n",
    "Somehow ResNet50 is not working as expected. Need to check why\n",
    "\n"
   ]
  },
  {
   "cell_type": "code",
   "execution_count": 13,
   "metadata": {},
   "outputs": [],
   "source": [
    "from sklearn.datasets import load_files       \n",
    "from keras.utils import to_categorical\n",
    "import numpy as np\n",
    "from glob import glob\n",
    "\n",
    "# Define function to load train, test, and validation datasets\n",
    "def load_dataset(path):\n",
    "    data = load_files(path)\n",
    "    dog_files = data['filenames']\n",
    "    dog_targets = to_categorical(np.array(data['target']), 133)\n",
    "    return dog_files, dog_targets\n",
    "\n",
    "# Load train, test, and validation datasets\n",
    "train_files, train_targets = load_dataset('./dog_images/train')\n",
    "#valid_files, valid_targets = load_dataset('/workspace/home/dog-project/dog_images/valid')\n",
    "#test_files, test_targets = load_dataset('/workspace/home/dog-project/dog_images/test')\n",
    "\n",
    "# Load list of dog names\n",
    "dog_names = [item[20:-1] for item in sorted(glob(\"./dog_images/train/*/\"))]\n",
    "\n",
    "dog_files_short = train_files[:100]"
   ]
  },
  {
   "cell_type": "code",
   "execution_count": 26,
   "metadata": {},
   "outputs": [],
   "source": [
    "from keras.applications.resnet50 import ResNet50\n",
    "from keras.preprocessing import image                  \n",
    "from tqdm import tqdm\n",
    "from keras.applications.resnet50 import preprocess_input, decode_predictions\n",
    "\n",
    "# define ResNet50 model\n",
    "ResNet50_model = ResNet50(weights='imagenet')\n",
    "\n",
    "def path_to_tensor(img_path):\n",
    "    try:\n",
    "        img = image.load_img(img_path, target_size=(224, 224))\n",
    "        x = image.img_to_array(img)\n",
    "        # Normalize the image tensor\n",
    "        return np.expand_dims(x, axis=0)#.astype('float32')/255\n",
    "    except IOError:\n",
    "        print(f\"Warning: Skipping corrupted image {img_path}\")\n",
    "        return None\n",
    "\n",
    "def paths_to_tensor(img_paths):\n",
    "    batch_tensors = []\n",
    "    for img_path in img_paths:\n",
    "        tensor = path_to_tensor(img_path)\n",
    "        if tensor is not None:\n",
    "            batch_tensors.append(tensor[0])\n",
    "    return np.array(batch_tensors)\n",
    "\n",
    "def ResNet50_predict_labels(img_path):\n",
    "    # returns prediction vector for image located at img_path\n",
    "    img = preprocess_input(path_to_tensor(img_path))\n",
    "    return np.argmax(ResNet50_model.predict(img))\n",
    "\n",
    "### returns \"True\" if a dog is detected in the image stored at img_path\n",
    "def dog_detector(img_path):\n",
    "    prediction = ResNet50_predict_labels(img_path)\n",
    "    return ((prediction <= 268) & (prediction >= 151)) "
   ]
  },
  {
   "cell_type": "code",
   "execution_count": 24,
   "metadata": {},
   "outputs": [
    {
     "name": "stdout",
     "output_type": "stream",
     "text": [
      "\u001b[1m1/1\u001b[0m \u001b[32m━━━━━━━━━━━━━━━━━━━━\u001b[0m\u001b[37m\u001b[0m \u001b[1m0s\u001b[0m 64ms/step\n"
     ]
    },
    {
     "data": {
      "text/plain": [
       "243"
      ]
     },
     "execution_count": 24,
     "metadata": {},
     "output_type": "execute_result"
    }
   ],
   "source": [
    "#ResNet50_predict_labels(dog_files_short[0])\n",
    "#dog_files_short\n",
    "img_path = dog_files_short[0]\n",
    "img = image.load_img(dog_files_short[0], target_size=(224, 224))\n",
    "x = image.img_to_array(img)\n",
    "x = np.expand_dims(x, axis=0)\n",
    "x = preprocess_input(x)\n",
    "np.argmax(ResNet50_model.predict(x))"
   ]
  },
  {
   "cell_type": "code",
   "execution_count": 28,
   "metadata": {},
   "outputs": [
    {
     "name": "stdout",
     "output_type": "stream",
     "text": [
      "\u001b[1m1/1\u001b[0m \u001b[32m━━━━━━━━━━━━━━━━━━━━\u001b[0m\u001b[37m\u001b[0m \u001b[1m0s\u001b[0m 76ms/step\n",
      "./dog_images/train\\003.Airedale_terrier\\Dog_test.jpg True\n",
      "\u001b[1m1/1\u001b[0m \u001b[32m━━━━━━━━━━━━━━━━━━━━\u001b[0m\u001b[37m\u001b[0m \u001b[1m0s\u001b[0m 71ms/step\n",
      "./dog_images/train\\003.Airedale_terrier\\Airedale_terrier_cut_00156.jpg True\n",
      "\u001b[1m1/1\u001b[0m \u001b[32m━━━━━━━━━━━━━━━━━━━━\u001b[0m\u001b[37m\u001b[0m \u001b[1m0s\u001b[0m 67ms/step\n",
      "./dog_images/train\\003.Airedale_terrier\\Airedale_terrier_00156.jpg True\n"
     ]
    }
   ],
   "source": [
    "for img in dog_files_short:\n",
    "    print(img,dog_detector(dog_files_short[0]))"
   ]
  },
  {
   "cell_type": "code",
   "execution_count": null,
   "metadata": {},
   "outputs": [],
   "source": []
  }
 ],
 "metadata": {
  "kernelspec": {
   "display_name": "base",
   "language": "python",
   "name": "python3"
  },
  "language_info": {
   "codemirror_mode": {
    "name": "ipython",
    "version": 3
   },
   "file_extension": ".py",
   "mimetype": "text/x-python",
   "name": "python",
   "nbconvert_exporter": "python",
   "pygments_lexer": "ipython3",
   "version": "3.12.4"
  }
 },
 "nbformat": 4,
 "nbformat_minor": 2
}
